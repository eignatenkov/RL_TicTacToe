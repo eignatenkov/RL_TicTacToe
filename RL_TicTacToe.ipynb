{
 "cells": [
  {
   "cell_type": "code",
   "execution_count": 1,
   "id": "10340a60-1455-4752-83bf-da961feceeb2",
   "metadata": {},
   "outputs": [],
   "source": [
    "from RLPlayer import RLPlayer, play_game\n",
    "from tictactoe import TicTacToe"
   ]
  },
  {
   "cell_type": "code",
   "execution_count": 2,
   "id": "9a9f43e5-736c-4ba9-9097-ce141e72fc9c",
   "metadata": {},
   "outputs": [],
   "source": [
    "from tqdm.notebook import tqdm"
   ]
  },
  {
   "cell_type": "code",
   "execution_count": 3,
   "id": "5b6781b7-1406-4afd-a45c-86dc563f3110",
   "metadata": {},
   "outputs": [],
   "source": [
    "cross = RLPlayer(1)\n",
    "naught = RLPlayer(-1)"
   ]
  },
  {
   "cell_type": "code",
   "execution_count": 4,
   "id": "85e2c6eb-3b9d-43f9-844f-8bdd125c232a",
   "metadata": {},
   "outputs": [
    {
     "data": {
      "application/vnd.jupyter.widget-view+json": {
       "model_id": "dad99b4a986b49309b0ac0676a449cdb",
       "version_major": 2,
       "version_minor": 0
      },
      "text/plain": [
       "  0%|          | 0/30000 [00:00<?, ?it/s]"
      ]
     },
     "metadata": {},
     "output_type": "display_data"
    }
   ],
   "source": [
    "lr = 0.1\n",
    "for i in tqdm(range(30000)):\n",
    "    play_game(cross, naught, log=False, learning_rate=lr)"
   ]
  },
  {
   "cell_type": "markdown",
   "id": "719a9cc8-5e54-4665-a98a-ae49a973861a",
   "metadata": {},
   "source": [
    "How many certain winning positions are there now for crosses?"
   ]
  },
  {
   "cell_type": "code",
   "execution_count": 5,
   "id": "5d5a552a-00e8-4d58-b4e8-8c487c17c9f6",
   "metadata": {},
   "outputs": [
    {
     "data": {
      "text/plain": [
       "452"
      ]
     },
     "execution_count": 5,
     "metadata": {},
     "output_type": "execute_result"
    }
   ],
   "source": [
    "sum(1 for p in cross.probs.values() if p > 0.8)"
   ]
  },
  {
   "cell_type": "markdown",
   "id": "feb63bf3-f9e5-4f4f-9121-ec1f764130f2",
   "metadata": {},
   "source": [
    "probabilities for empty board"
   ]
  },
  {
   "cell_type": "code",
   "execution_count": 7,
   "id": "3e637957-defa-4836-9272-d679399c7cb4",
   "metadata": {},
   "outputs": [
    {
     "data": {
      "text/plain": [
       "(0.5732459276104361, 0.6129289003498839)"
      ]
     },
     "execution_count": 7,
     "metadata": {},
     "output_type": "execute_result"
    }
   ],
   "source": [
    "cross.probs['.........'], naught.probs['.........']"
   ]
  },
  {
   "cell_type": "markdown",
   "id": "c7838182-2cf1-40af-a2ed-66a03092b8f2",
   "metadata": {
    "tags": []
   },
   "source": [
    "## Fixing naughts' exploration rate and making learning rate decay"
   ]
  },
  {
   "cell_type": "code",
   "execution_count": 8,
   "id": "dabf577b-8d6c-4ffe-8b26-37502e2f8ad8",
   "metadata": {},
   "outputs": [],
   "source": [
    "naught.exploration_rate = 0"
   ]
  },
  {
   "cell_type": "code",
   "execution_count": 9,
   "id": "4b6ed091-e74e-4bb4-8d5c-83b30e0582dc",
   "metadata": {},
   "outputs": [
    {
     "data": {
      "application/vnd.jupyter.widget-view+json": {
       "model_id": "f93d01a41b1a4cf0bb8822aef537b6ee",
       "version_major": 2,
       "version_minor": 0
      },
      "text/plain": [
       "  0%|          | 0/10000 [00:00<?, ?it/s]"
      ]
     },
     "metadata": {},
     "output_type": "display_data"
    }
   ],
   "source": [
    "lr = 0.1\n",
    "for i in tqdm(range(10000)):\n",
    "    play_game(cross, naught, log=False, learning_rate=lr)\n",
    "    lr *= 0.9998"
   ]
  },
  {
   "cell_type": "code",
   "execution_count": 10,
   "id": "1d499a93-58bc-4dd0-b64b-10fdccd206c4",
   "metadata": {
    "tags": []
   },
   "outputs": [
    {
     "data": {
      "text/plain": [
       "452"
      ]
     },
     "execution_count": 10,
     "metadata": {},
     "output_type": "execute_result"
    }
   ],
   "source": [
    "# for b, p in cross.probs.items():\n",
    "#     if p < 0.99 and p > 0.8:\n",
    "#         print(b, p)\n",
    "sum(1 for p in cross.probs.values() if p > 0.8)"
   ]
  },
  {
   "cell_type": "code",
   "execution_count": 11,
   "id": "a80ed1ac-3318-4fd5-80a8-0d15450d673e",
   "metadata": {},
   "outputs": [
    {
     "data": {
      "text/plain": [
       "(0.5000231223215497, 0.5219379936914653)"
      ]
     },
     "execution_count": 11,
     "metadata": {},
     "output_type": "execute_result"
    }
   ],
   "source": [
    "cross.probs['.........'], naught.probs['.........']"
   ]
  },
  {
   "cell_type": "markdown",
   "id": "a787af34-bcf1-4d1a-946e-48320e2a2f6d",
   "metadata": {},
   "source": [
    "## Naughts playing against random player"
   ]
  },
  {
   "cell_type": "code",
   "execution_count": 12,
   "id": "42a9ce02-e86b-45cc-ac62-e1d1a624f07f",
   "metadata": {},
   "outputs": [],
   "source": [
    "cross.exploration_rate = 1"
   ]
  },
  {
   "cell_type": "code",
   "execution_count": 13,
   "id": "50cdd7d4-b673-43f9-85b8-095884a21efe",
   "metadata": {},
   "outputs": [
    {
     "name": "stdout",
     "output_type": "stream",
     "text": [
      "exploration move\n",
      "...\n",
      ".X.\n",
      "...\n",
      "\n",
      "...\n",
      ".X.\n",
      "..O\n",
      "\n",
      "exploration move\n",
      "...\n",
      ".XX\n",
      "..O\n",
      "\n",
      "...\n",
      "OXX\n",
      "..O\n",
      "\n",
      "exploration move\n",
      "..X\n",
      "OXX\n",
      "..O\n",
      "\n",
      "..X\n",
      "OXX\n",
      "O.O\n",
      "\n",
      "exploration move\n",
      "..X\n",
      "OXX\n",
      "OXO\n",
      "\n",
      "O.X\n",
      "OXX\n",
      "OXO\n",
      "\n"
     ]
    }
   ],
   "source": [
    "play_game(cross, naught, log=True)"
   ]
  }
 ],
 "metadata": {
  "kernelspec": {
   "display_name": "Python 3 (ipykernel)",
   "language": "python",
   "name": "python3"
  },
  "language_info": {
   "codemirror_mode": {
    "name": "ipython",
    "version": 3
   },
   "file_extension": ".py",
   "mimetype": "text/x-python",
   "name": "python",
   "nbconvert_exporter": "python",
   "pygments_lexer": "ipython3",
   "version": "3.9.7"
  }
 },
 "nbformat": 4,
 "nbformat_minor": 5
}
